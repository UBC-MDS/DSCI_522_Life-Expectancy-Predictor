{
 "cells": [
  {
   "cell_type": "code",
   "execution_count": 3,
   "id": "0af418fb-afbd-46a4-b8a6-046bc36d7123",
   "metadata": {},
   "outputs": [
    {
     "data": {
      "text/html": [
       "<table class=\"dataframe\">\n",
       "<caption>A data.frame: 6 × 17</caption>\n",
       "<thead>\n",
       "\t<tr><th></th><th scope=col>ï..REF_DATE</th><th scope=col>GEO</th><th scope=col>DGUID</th><th scope=col>Age.group</th><th scope=col>Sex</th><th scope=col>Characteristics</th><th scope=col>UOM</th><th scope=col>UOM_ID</th><th scope=col>SCALAR_FACTOR</th><th scope=col>SCALAR_ID</th><th scope=col>VECTOR</th><th scope=col>COORDINATE</th><th scope=col>VALUE</th><th scope=col>STATUS</th><th scope=col>SYMBOL</th><th scope=col>TERMINATED</th><th scope=col>DECIMALS</th></tr>\n",
       "\t<tr><th></th><th scope=col>&lt;chr&gt;</th><th scope=col>&lt;chr&gt;</th><th scope=col>&lt;chr&gt;</th><th scope=col>&lt;chr&gt;</th><th scope=col>&lt;chr&gt;</th><th scope=col>&lt;chr&gt;</th><th scope=col>&lt;chr&gt;</th><th scope=col>&lt;int&gt;</th><th scope=col>&lt;chr&gt;</th><th scope=col>&lt;int&gt;</th><th scope=col>&lt;chr&gt;</th><th scope=col>&lt;chr&gt;</th><th scope=col>&lt;dbl&gt;</th><th scope=col>&lt;lgl&gt;</th><th scope=col>&lt;lgl&gt;</th><th scope=col>&lt;lgl&gt;</th><th scope=col>&lt;int&gt;</th></tr>\n",
       "</thead>\n",
       "<tbody>\n",
       "\t<tr><th scope=row>1</th><td>2006/2008</td><td>Canada</td><td>2016A000011124</td><td>At birth</td><td>Both sexes</td><td>Life expectancy                              </td><td>Years</td><td>308</td><td>units </td><td>0</td><td>v1063744202</td><td>1.1.1.1</td><td>80.7</td><td>NA</td><td>NA</td><td>NA</td><td>1</td></tr>\n",
       "\t<tr><th scope=row>2</th><td>2006/2008</td><td>Canada</td><td>2016A000011124</td><td>At birth</td><td>Both sexes</td><td>Low 95% confidence interval, life expectancy </td><td>Years</td><td>308</td><td>units </td><td>0</td><td>v1063744203</td><td>1.1.1.2</td><td>80.7</td><td>NA</td><td>NA</td><td>NA</td><td>1</td></tr>\n",
       "\t<tr><th scope=row>3</th><td>2006/2008</td><td>Canada</td><td>2016A000011124</td><td>At birth</td><td>Both sexes</td><td>High 95% confidence interval, life expectancy</td><td>Years</td><td>308</td><td>units </td><td>0</td><td>v1063744204</td><td>1.1.1.3</td><td>80.7</td><td>NA</td><td>NA</td><td>NA</td><td>1</td></tr>\n",
       "\t<tr><th scope=row>4</th><td>2006/2008</td><td>Canada</td><td>2016A000011124</td><td>At birth</td><td>Males     </td><td>Life expectancy                              </td><td>Years</td><td>308</td><td>units </td><td>0</td><td>v1063744205</td><td>1.1.2.1</td><td>78.3</td><td>NA</td><td>NA</td><td>NA</td><td>1</td></tr>\n",
       "\t<tr><th scope=row>5</th><td>2006/2008</td><td>Canada</td><td>2016A000011124</td><td>At birth</td><td>Males     </td><td>Low 95% confidence interval, life expectancy </td><td>Years</td><td>308</td><td>units </td><td>0</td><td>v1063744206</td><td>1.1.2.2</td><td>78.3</td><td>NA</td><td>NA</td><td>NA</td><td>1</td></tr>\n",
       "\t<tr><th scope=row>6</th><td>2006/2008</td><td>Canada</td><td>2016A000011124</td><td>At birth</td><td>Males     </td><td>High 95% confidence interval, life expectancy</td><td>Years</td><td>308</td><td>units </td><td>0</td><td>v1063744207</td><td>1.1.2.3</td><td>78.4</td><td>NA</td><td>NA</td><td>NA</td><td>1</td></tr>\n",
       "</tbody>\n",
       "</table>\n"
      ],
      "text/latex": [
       "A data.frame: 6 × 17\n",
       "\\begin{tabular}{r|lllllllllllllllll}\n",
       "  & ï..REF\\_DATE & GEO & DGUID & Age.group & Sex & Characteristics & UOM & UOM\\_ID & SCALAR\\_FACTOR & SCALAR\\_ID & VECTOR & COORDINATE & VALUE & STATUS & SYMBOL & TERMINATED & DECIMALS\\\\\n",
       "  & <chr> & <chr> & <chr> & <chr> & <chr> & <chr> & <chr> & <int> & <chr> & <int> & <chr> & <chr> & <dbl> & <lgl> & <lgl> & <lgl> & <int>\\\\\n",
       "\\hline\n",
       "\t1 & 2006/2008 & Canada & 2016A000011124 & At birth & Both sexes & Life expectancy                               & Years & 308 & units  & 0 & v1063744202 & 1.1.1.1 & 80.7 & NA & NA & NA & 1\\\\\n",
       "\t2 & 2006/2008 & Canada & 2016A000011124 & At birth & Both sexes & Low 95\\% confidence interval, life expectancy  & Years & 308 & units  & 0 & v1063744203 & 1.1.1.2 & 80.7 & NA & NA & NA & 1\\\\\n",
       "\t3 & 2006/2008 & Canada & 2016A000011124 & At birth & Both sexes & High 95\\% confidence interval, life expectancy & Years & 308 & units  & 0 & v1063744204 & 1.1.1.3 & 80.7 & NA & NA & NA & 1\\\\\n",
       "\t4 & 2006/2008 & Canada & 2016A000011124 & At birth & Males      & Life expectancy                               & Years & 308 & units  & 0 & v1063744205 & 1.1.2.1 & 78.3 & NA & NA & NA & 1\\\\\n",
       "\t5 & 2006/2008 & Canada & 2016A000011124 & At birth & Males      & Low 95\\% confidence interval, life expectancy  & Years & 308 & units  & 0 & v1063744206 & 1.1.2.2 & 78.3 & NA & NA & NA & 1\\\\\n",
       "\t6 & 2006/2008 & Canada & 2016A000011124 & At birth & Males      & High 95\\% confidence interval, life expectancy & Years & 308 & units  & 0 & v1063744207 & 1.1.2.3 & 78.4 & NA & NA & NA & 1\\\\\n",
       "\\end{tabular}\n"
      ],
      "text/markdown": [
       "\n",
       "A data.frame: 6 × 17\n",
       "\n",
       "| <!--/--> | ï..REF_DATE &lt;chr&gt; | GEO &lt;chr&gt; | DGUID &lt;chr&gt; | Age.group &lt;chr&gt; | Sex &lt;chr&gt; | Characteristics &lt;chr&gt; | UOM &lt;chr&gt; | UOM_ID &lt;int&gt; | SCALAR_FACTOR &lt;chr&gt; | SCALAR_ID &lt;int&gt; | VECTOR &lt;chr&gt; | COORDINATE &lt;chr&gt; | VALUE &lt;dbl&gt; | STATUS &lt;lgl&gt; | SYMBOL &lt;lgl&gt; | TERMINATED &lt;lgl&gt; | DECIMALS &lt;int&gt; |\n",
       "|---|---|---|---|---|---|---|---|---|---|---|---|---|---|---|---|---|---|\n",
       "| 1 | 2006/2008 | Canada | 2016A000011124 | At birth | Both sexes | Life expectancy                               | Years | 308 | units  | 0 | v1063744202 | 1.1.1.1 | 80.7 | NA | NA | NA | 1 |\n",
       "| 2 | 2006/2008 | Canada | 2016A000011124 | At birth | Both sexes | Low 95% confidence interval, life expectancy  | Years | 308 | units  | 0 | v1063744203 | 1.1.1.2 | 80.7 | NA | NA | NA | 1 |\n",
       "| 3 | 2006/2008 | Canada | 2016A000011124 | At birth | Both sexes | High 95% confidence interval, life expectancy | Years | 308 | units  | 0 | v1063744204 | 1.1.1.3 | 80.7 | NA | NA | NA | 1 |\n",
       "| 4 | 2006/2008 | Canada | 2016A000011124 | At birth | Males      | Life expectancy                               | Years | 308 | units  | 0 | v1063744205 | 1.1.2.1 | 78.3 | NA | NA | NA | 1 |\n",
       "| 5 | 2006/2008 | Canada | 2016A000011124 | At birth | Males      | Low 95% confidence interval, life expectancy  | Years | 308 | units  | 0 | v1063744206 | 1.1.2.2 | 78.3 | NA | NA | NA | 1 |\n",
       "| 6 | 2006/2008 | Canada | 2016A000011124 | At birth | Males      | High 95% confidence interval, life expectancy | Years | 308 | units  | 0 | v1063744207 | 1.1.2.3 | 78.4 | NA | NA | NA | 1 |\n",
       "\n"
      ],
      "text/plain": [
       "  ï..REF_DATE GEO    DGUID          Age.group Sex       \n",
       "1 2006/2008   Canada 2016A000011124 At birth  Both sexes\n",
       "2 2006/2008   Canada 2016A000011124 At birth  Both sexes\n",
       "3 2006/2008   Canada 2016A000011124 At birth  Both sexes\n",
       "4 2006/2008   Canada 2016A000011124 At birth  Males     \n",
       "5 2006/2008   Canada 2016A000011124 At birth  Males     \n",
       "6 2006/2008   Canada 2016A000011124 At birth  Males     \n",
       "  Characteristics                               UOM   UOM_ID SCALAR_FACTOR\n",
       "1 Life expectancy                               Years 308    units        \n",
       "2 Low 95% confidence interval, life expectancy  Years 308    units        \n",
       "3 High 95% confidence interval, life expectancy Years 308    units        \n",
       "4 Life expectancy                               Years 308    units        \n",
       "5 Low 95% confidence interval, life expectancy  Years 308    units        \n",
       "6 High 95% confidence interval, life expectancy Years 308    units        \n",
       "  SCALAR_ID VECTOR      COORDINATE VALUE STATUS SYMBOL TERMINATED DECIMALS\n",
       "1 0         v1063744202 1.1.1.1    80.7  NA     NA     NA         1       \n",
       "2 0         v1063744203 1.1.1.2    80.7  NA     NA     NA         1       \n",
       "3 0         v1063744204 1.1.1.3    80.7  NA     NA     NA         1       \n",
       "4 0         v1063744205 1.1.2.1    78.3  NA     NA     NA         1       \n",
       "5 0         v1063744206 1.1.2.2    78.3  NA     NA     NA         1       \n",
       "6 0         v1063744207 1.1.2.3    78.4  NA     NA     NA         1       "
      ]
     },
     "metadata": {},
     "output_type": "display_data"
    }
   ],
   "source": [
    "library(tidyr)\n",
    "\n",
    "data <- read.csv(\"13100389.csv\")\n",
    "head(data)"
   ]
  },
  {
   "cell_type": "code",
   "execution_count": 7,
   "id": "356efdd8-ec70-49f4-8ff9-0a4f2120222d",
   "metadata": {},
   "outputs": [
    {
     "data": {
      "text/html": [
       "<table class=\"dataframe\">\n",
       "<caption>A tibble: 6 × 25</caption>\n",
       "<thead>\n",
       "\t<tr><th scope=col>GEO</th><th scope=col>DGUID</th><th scope=col>Age.group</th><th scope=col>Sex</th><th scope=col>Characteristics</th><th scope=col>UOM</th><th scope=col>UOM_ID</th><th scope=col>SCALAR_FACTOR</th><th scope=col>SCALAR_ID</th><th scope=col>VECTOR</th><th scope=col>...</th><th scope=col>2006/2008</th><th scope=col>2007/2009</th><th scope=col>2008/2010</th><th scope=col>2009/2011</th><th scope=col>2010/2012</th><th scope=col>2011/2013</th><th scope=col>2012/2014</th><th scope=col>2013/2015</th><th scope=col>2014/2016</th><th scope=col>2015/2017</th></tr>\n",
       "\t<tr><th scope=col>&lt;chr&gt;</th><th scope=col>&lt;chr&gt;</th><th scope=col>&lt;chr&gt;</th><th scope=col>&lt;chr&gt;</th><th scope=col>&lt;chr&gt;</th><th scope=col>&lt;chr&gt;</th><th scope=col>&lt;int&gt;</th><th scope=col>&lt;chr&gt;</th><th scope=col>&lt;int&gt;</th><th scope=col>&lt;chr&gt;</th><th scope=col>...</th><th scope=col>&lt;dbl&gt;</th><th scope=col>&lt;dbl&gt;</th><th scope=col>&lt;dbl&gt;</th><th scope=col>&lt;dbl&gt;</th><th scope=col>&lt;dbl&gt;</th><th scope=col>&lt;dbl&gt;</th><th scope=col>&lt;dbl&gt;</th><th scope=col>&lt;dbl&gt;</th><th scope=col>&lt;dbl&gt;</th><th scope=col>&lt;dbl&gt;</th></tr>\n",
       "</thead>\n",
       "<tbody>\n",
       "\t<tr><td>Canada</td><td>2016A000011124</td><td>At birth</td><td>Both sexes</td><td>Life expectancy                              </td><td>Years</td><td>308</td><td>units </td><td>0</td><td>v1063744202</td><td>...</td><td>80.7</td><td>80.9</td><td>81.1</td><td>81.4</td><td>81.7</td><td>81.8</td><td>81.9</td><td>82.0</td><td>82.0</td><td>82.1</td></tr>\n",
       "\t<tr><td>Canada</td><td>2016A000011124</td><td>At birth</td><td>Both sexes</td><td>Low 95% confidence interval, life expectancy </td><td>Years</td><td>308</td><td>units </td><td>0</td><td>v1063744203</td><td>...</td><td>80.7</td><td>80.8</td><td>81.1</td><td>81.4</td><td>81.6</td><td>81.8</td><td>81.9</td><td>81.9</td><td>82.0</td><td>82.1</td></tr>\n",
       "\t<tr><td>Canada</td><td>2016A000011124</td><td>At birth</td><td>Both sexes</td><td>High 95% confidence interval, life expectancy</td><td>Years</td><td>308</td><td>units </td><td>0</td><td>v1063744204</td><td>...</td><td>80.7</td><td>80.9</td><td>81.2</td><td>81.4</td><td>81.7</td><td>81.9</td><td>81.9</td><td>82.0</td><td>82.1</td><td>82.1</td></tr>\n",
       "\t<tr><td>Canada</td><td>2016A000011124</td><td>At birth</td><td>Males     </td><td>Life expectancy                              </td><td>Years</td><td>308</td><td>units </td><td>0</td><td>v1063744205</td><td>...</td><td>78.3</td><td>78.5</td><td>78.8</td><td>79.2</td><td>79.4</td><td>79.6</td><td>79.8</td><td>79.8</td><td>79.9</td><td>80.0</td></tr>\n",
       "\t<tr><td>Canada</td><td>2016A000011124</td><td>At birth</td><td>Males     </td><td>Low 95% confidence interval, life expectancy </td><td>Years</td><td>308</td><td>units </td><td>0</td><td>v1063744206</td><td>...</td><td>78.3</td><td>78.5</td><td>78.8</td><td>79.1</td><td>79.4</td><td>79.6</td><td>79.7</td><td>79.8</td><td>79.9</td><td>79.9</td></tr>\n",
       "\t<tr><td>Canada</td><td>2016A000011124</td><td>At birth</td><td>Males     </td><td>High 95% confidence interval, life expectancy</td><td>Years</td><td>308</td><td>units </td><td>0</td><td>v1063744207</td><td>...</td><td>78.4</td><td>78.6</td><td>78.9</td><td>79.2</td><td>79.5</td><td>79.7</td><td>79.8</td><td>79.9</td><td>80.0</td><td>80.0</td></tr>\n",
       "</tbody>\n",
       "</table>\n"
      ],
      "text/latex": [
       "A tibble: 6 × 25\n",
       "\\begin{tabular}{lllllllllllllllllllll}\n",
       " GEO & DGUID & Age.group & Sex & Characteristics & UOM & UOM\\_ID & SCALAR\\_FACTOR & SCALAR\\_ID & VECTOR & ... & 2006/2008 & 2007/2009 & 2008/2010 & 2009/2011 & 2010/2012 & 2011/2013 & 2012/2014 & 2013/2015 & 2014/2016 & 2015/2017\\\\\n",
       " <chr> & <chr> & <chr> & <chr> & <chr> & <chr> & <int> & <chr> & <int> & <chr> & ... & <dbl> & <dbl> & <dbl> & <dbl> & <dbl> & <dbl> & <dbl> & <dbl> & <dbl> & <dbl>\\\\\n",
       "\\hline\n",
       "\t Canada & 2016A000011124 & At birth & Both sexes & Life expectancy                               & Years & 308 & units  & 0 & v1063744202 & ... & 80.7 & 80.9 & 81.1 & 81.4 & 81.7 & 81.8 & 81.9 & 82.0 & 82.0 & 82.1\\\\\n",
       "\t Canada & 2016A000011124 & At birth & Both sexes & Low 95\\% confidence interval, life expectancy  & Years & 308 & units  & 0 & v1063744203 & ... & 80.7 & 80.8 & 81.1 & 81.4 & 81.6 & 81.8 & 81.9 & 81.9 & 82.0 & 82.1\\\\\n",
       "\t Canada & 2016A000011124 & At birth & Both sexes & High 95\\% confidence interval, life expectancy & Years & 308 & units  & 0 & v1063744204 & ... & 80.7 & 80.9 & 81.2 & 81.4 & 81.7 & 81.9 & 81.9 & 82.0 & 82.1 & 82.1\\\\\n",
       "\t Canada & 2016A000011124 & At birth & Males      & Life expectancy                               & Years & 308 & units  & 0 & v1063744205 & ... & 78.3 & 78.5 & 78.8 & 79.2 & 79.4 & 79.6 & 79.8 & 79.8 & 79.9 & 80.0\\\\\n",
       "\t Canada & 2016A000011124 & At birth & Males      & Low 95\\% confidence interval, life expectancy  & Years & 308 & units  & 0 & v1063744206 & ... & 78.3 & 78.5 & 78.8 & 79.1 & 79.4 & 79.6 & 79.7 & 79.8 & 79.9 & 79.9\\\\\n",
       "\t Canada & 2016A000011124 & At birth & Males      & High 95\\% confidence interval, life expectancy & Years & 308 & units  & 0 & v1063744207 & ... & 78.4 & 78.6 & 78.9 & 79.2 & 79.5 & 79.7 & 79.8 & 79.9 & 80.0 & 80.0\\\\\n",
       "\\end{tabular}\n"
      ],
      "text/markdown": [
       "\n",
       "A tibble: 6 × 25\n",
       "\n",
       "| GEO &lt;chr&gt; | DGUID &lt;chr&gt; | Age.group &lt;chr&gt; | Sex &lt;chr&gt; | Characteristics &lt;chr&gt; | UOM &lt;chr&gt; | UOM_ID &lt;int&gt; | SCALAR_FACTOR &lt;chr&gt; | SCALAR_ID &lt;int&gt; | VECTOR &lt;chr&gt; | ... ... | 2006/2008 &lt;dbl&gt; | 2007/2009 &lt;dbl&gt; | 2008/2010 &lt;dbl&gt; | 2009/2011 &lt;dbl&gt; | 2010/2012 &lt;dbl&gt; | 2011/2013 &lt;dbl&gt; | 2012/2014 &lt;dbl&gt; | 2013/2015 &lt;dbl&gt; | 2014/2016 &lt;dbl&gt; | 2015/2017 &lt;dbl&gt; |\n",
       "|---|---|---|---|---|---|---|---|---|---|---|---|---|---|---|---|---|---|---|---|---|\n",
       "| Canada | 2016A000011124 | At birth | Both sexes | Life expectancy                               | Years | 308 | units  | 0 | v1063744202 | ... | 80.7 | 80.9 | 81.1 | 81.4 | 81.7 | 81.8 | 81.9 | 82.0 | 82.0 | 82.1 |\n",
       "| Canada | 2016A000011124 | At birth | Both sexes | Low 95% confidence interval, life expectancy  | Years | 308 | units  | 0 | v1063744203 | ... | 80.7 | 80.8 | 81.1 | 81.4 | 81.6 | 81.8 | 81.9 | 81.9 | 82.0 | 82.1 |\n",
       "| Canada | 2016A000011124 | At birth | Both sexes | High 95% confidence interval, life expectancy | Years | 308 | units  | 0 | v1063744204 | ... | 80.7 | 80.9 | 81.2 | 81.4 | 81.7 | 81.9 | 81.9 | 82.0 | 82.1 | 82.1 |\n",
       "| Canada | 2016A000011124 | At birth | Males      | Life expectancy                               | Years | 308 | units  | 0 | v1063744205 | ... | 78.3 | 78.5 | 78.8 | 79.2 | 79.4 | 79.6 | 79.8 | 79.8 | 79.9 | 80.0 |\n",
       "| Canada | 2016A000011124 | At birth | Males      | Low 95% confidence interval, life expectancy  | Years | 308 | units  | 0 | v1063744206 | ... | 78.3 | 78.5 | 78.8 | 79.1 | 79.4 | 79.6 | 79.7 | 79.8 | 79.9 | 79.9 |\n",
       "| Canada | 2016A000011124 | At birth | Males      | High 95% confidence interval, life expectancy | Years | 308 | units  | 0 | v1063744207 | ... | 78.4 | 78.6 | 78.9 | 79.2 | 79.5 | 79.7 | 79.8 | 79.9 | 80.0 | 80.0 |\n",
       "\n"
      ],
      "text/plain": [
       "  GEO    DGUID          Age.group Sex       \n",
       "1 Canada 2016A000011124 At birth  Both sexes\n",
       "2 Canada 2016A000011124 At birth  Both sexes\n",
       "3 Canada 2016A000011124 At birth  Both sexes\n",
       "4 Canada 2016A000011124 At birth  Males     \n",
       "5 Canada 2016A000011124 At birth  Males     \n",
       "6 Canada 2016A000011124 At birth  Males     \n",
       "  Characteristics                               UOM   UOM_ID SCALAR_FACTOR\n",
       "1 Life expectancy                               Years 308    units        \n",
       "2 Low 95% confidence interval, life expectancy  Years 308    units        \n",
       "3 High 95% confidence interval, life expectancy Years 308    units        \n",
       "4 Life expectancy                               Years 308    units        \n",
       "5 Low 95% confidence interval, life expectancy  Years 308    units        \n",
       "6 High 95% confidence interval, life expectancy Years 308    units        \n",
       "  SCALAR_ID VECTOR      ... 2006/2008 2007/2009 2008/2010 2009/2011 2010/2012\n",
       "1 0         v1063744202 ... 80.7      80.9      81.1      81.4      81.7     \n",
       "2 0         v1063744203 ... 80.7      80.8      81.1      81.4      81.6     \n",
       "3 0         v1063744204 ... 80.7      80.9      81.2      81.4      81.7     \n",
       "4 0         v1063744205 ... 78.3      78.5      78.8      79.2      79.4     \n",
       "5 0         v1063744206 ... 78.3      78.5      78.8      79.1      79.4     \n",
       "6 0         v1063744207 ... 78.4      78.6      78.9      79.2      79.5     \n",
       "  2011/2013 2012/2014 2013/2015 2014/2016 2015/2017\n",
       "1 81.8      81.9      82.0      82.0      82.1     \n",
       "2 81.8      81.9      81.9      82.0      82.1     \n",
       "3 81.9      81.9      82.0      82.1      82.1     \n",
       "4 79.6      79.8      79.8      79.9      80.0     \n",
       "5 79.6      79.7      79.8      79.9      79.9     \n",
       "6 79.7      79.8      79.9      80.0      80.0     "
      ]
     },
     "metadata": {},
     "output_type": "display_data"
    }
   ],
   "source": [
    "clear_date <- data |> \n",
    "  pivot_wider(names_from = ï..REF_DATE, values_from = VALUE) |> \n",
    "  pivot_wider(names_from = ï..REF_DATE, values_from = VALUE) \n",
    "head(clear_date)"
   ]
  }
 ],
 "metadata": {
  "kernelspec": {
   "display_name": "R",
   "language": "R",
   "name": "ir"
  },
  "language_info": {
   "codemirror_mode": "r",
   "file_extension": ".r",
   "mimetype": "text/x-r-source",
   "name": "R",
   "pygments_lexer": "r",
   "version": "4.1.1"
  }
 },
 "nbformat": 4,
 "nbformat_minor": 5
}
